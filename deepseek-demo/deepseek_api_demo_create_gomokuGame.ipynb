{
 "cells": [
  {
   "cell_type": "code",
   "execution_count": 1,
   "id": "d0f169b6-2ae5-42cf-b585-989b710bae0a",
   "metadata": {},
   "outputs": [],
   "source": [
    "import os\n",
    "from openai import OpenAI\n",
    "\n",
    "# Retrieve DeepSeek API Key from Environment Variables\n",
    "api_key = os.getenv(\"DEEPSEEK_API_KEY\")\n",
    "if not api_key:\n",
    "    raise ValueError(\"Please set the DEEPSEEK_API_KEY environment variable!!\")\n",
    "\n",
    "#Initialize OpenAI client (assuming DeepSeek's API is compatible with OpenAI format)\n",
    "client = OpenAI(\n",
    "    api_key=api_key,\n",
    "    base_url=\"https://api.deepseek.com/v1\",  #The base address of DeepSeek API\n",
    ")\n",
    "\n",
    "# Define prompt words\n",
    "prompt = \"\"\"请帮我用 HTML 生成一个五子棋游戏，所有代码都保存在一个 HTML 中。\"\"\""
   ]
  },
  {
   "cell_type": "code",
   "execution_count": 3,
   "id": "8dfe211a-9c14-4efe-a541-64ab34aea32d",
   "metadata": {},
   "outputs": [
    {
     "name": "stdout",
     "output_type": "stream",
     "text": [
      "Gomoku game has been saved as gomoku.html\n"
     ]
    }
   ],
   "source": [
    "try:\n",
    "    # Call DeepSeek Chat API\n",
    "    response = client.chat.completions.create(\n",
    "        model=\"deepseek-chat\",  #Or other model names provided by DeepSeek\n",
    "        messages=[\n",
    "            {\"role\": \"system\", \"content\": \"你是一个专业的 Web 开发助手，擅长用 HTML/CSS/JavaScript 编写游戏。\"},\n",
    "            {\"role\": \"user\", \"content\": prompt}\n",
    "        ],\n",
    "        temperature=0.7,\n",
    "        stream=False\n",
    "    )\n",
    "\n",
    "    # Extract generated HTML content\n",
    "    if response.choices and len(response.choices) > 0:\n",
    "        html_content = response.choices[0].message.content\n",
    "        \n",
    "        #Save to file\n",
    "        with open(\"gomoku.md\", \"w\", encoding=\"utf-8\") as f:\n",
    "            f.write(html_content)\n",
    "        print(\"Gomoku game has been saved as gomoku.html\")\n",
    "    else:\n",
    "        print(\"No valid response received\")\n",
    "\n",
    "except Exception as e:\n",
    "    print(f\"API call error: {e}\")"
   ]
  },
  {
   "cell_type": "code",
   "execution_count": null,
   "id": "8ab66ede-71d4-4bbc-abb1-0ba7d35caea4",
   "metadata": {},
   "outputs": [],
   "source": []
  }
 ],
 "metadata": {
  "kernelspec": {
   "display_name": "Python 3 (ipykernel)",
   "language": "python",
   "name": "python3"
  },
  "language_info": {
   "codemirror_mode": {
    "name": "ipython",
    "version": 3
   },
   "file_extension": ".py",
   "mimetype": "text/x-python",
   "name": "python",
   "nbconvert_exporter": "python",
   "pygments_lexer": "ipython3",
   "version": "3.13.4"
  }
 },
 "nbformat": 4,
 "nbformat_minor": 5
}
